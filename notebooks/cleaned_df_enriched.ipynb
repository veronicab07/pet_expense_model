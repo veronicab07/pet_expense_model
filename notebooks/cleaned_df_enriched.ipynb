{
 "cells": [
  {
   "cell_type": "code",
   "execution_count": 1,
   "id": "69419325",
   "metadata": {},
   "outputs": [],
   "source": [
    "import pandas as pd\n",
    "import numpy as np"
   ]
  },
  {
   "cell_type": "code",
   "execution_count": 2,
   "id": "ff472ebe",
   "metadata": {},
   "outputs": [
    {
     "name": "stderr",
     "output_type": "stream",
     "text": [
      "C:\\Users\\Vero\\AppData\\Local\\Temp\\ipykernel_14696\\2185817358.py:1: DtypeWarning: Columns (3) have mixed types. Specify dtype option on import or set low_memory=False.\n",
      "  df = pd.read_csv('second_cleaning_df.csv')\n"
     ]
    }
   ],
   "source": [
    "df = pd.read_csv('second_cleaning_df.csv')"
   ]
  },
  {
   "cell_type": "code",
   "execution_count": 3,
   "id": "43f2bcd1",
   "metadata": {},
   "outputs": [
    {
     "name": "stdout",
     "output_type": "stream",
     "text": [
      "<class 'pandas.core.frame.DataFrame'>\n",
      "RangeIndex: 336177 entries, 0 to 336176\n",
      "Data columns (total 29 columns):\n",
      " #   Column                           Non-Null Count   Dtype  \n",
      "---  ------                           --------------   -----  \n",
      " 0   Breed                            336177 non-null  object \n",
      " 1   lifetime_cost                    336177 non-null  float64\n",
      " 2   longevity                        336177 non-null  float64\n",
      " 3   food_cost_year                   336177 non-null  object \n",
      " 4   grooming_required                336177 non-null  int64  \n",
      " 5   size_category                    336177 non-null  object \n",
      " 6   weight_kg                        336177 non-null  float64\n",
      " 7   shoulder_height_cm               336177 non-null  float64\n",
      " 8   intelligence_category            336177 non-null  object \n",
      " 9   avg_food_per_week_£              336177 non-null  float64\n",
      " 10  food_per_week_$                  336177 non-null  float64\n",
      " 11  genetic_ailments                 336177 non-null  object \n",
      " 12  category                         336177 non-null  object \n",
      " 13  Specie                           336177 non-null  object \n",
      " 14  Gender                           336177 non-null  object \n",
      " 15  sensitivity_level                336177 non-null  float64\n",
      " 16  tolerates_being_alone            336177 non-null  float64\n",
      " 17  tolerates_cold_weather           336177 non-null  float64\n",
      " 18  tolerates_hot_weather            336177 non-null  float64\n",
      " 19  incredibly_kifriendly_dogs       336177 non-null  float64\n",
      " 20  dog_friendly                     336177 non-null  float64\n",
      " 21  friendly_towarstrangers          336177 non-null  float64\n",
      " 22  potential_for_mouthiness         336177 non-null  float64\n",
      " 23  prey_drive                       336177 non-null  float64\n",
      " 24  tendency_to_bark_or_howl         336177 non-null  float64\n",
      " 25  wanderlust_potential             336177 non-null  float64\n",
      " 26  exercise_needs                   336177 non-null  float64\n",
      " 27  energy_level                     336177 non-null  float64\n",
      " 28  adapts_well_to_apartment_living  336177 non-null  object \n",
      "dtypes: float64(19), int64(1), object(9)\n",
      "memory usage: 74.4+ MB\n"
     ]
    }
   ],
   "source": [
    "df.info()"
   ]
  },
  {
   "cell_type": "code",
   "execution_count": 4,
   "id": "65199287",
   "metadata": {},
   "outputs": [],
   "source": [
    "osteo = pd.read_csv('osteo.csv')"
   ]
  },
  {
   "cell_type": "code",
   "execution_count": 5,
   "id": "0f035cb3",
   "metadata": {},
   "outputs": [
    {
     "name": "stdout",
     "output_type": "stream",
     "text": [
      "<class 'pandas.core.frame.DataFrame'>\n",
      "RangeIndex: 29734 entries, 0 to 29733\n",
      "Data columns (total 3 columns):\n",
      " #   Column  Non-Null Count  Dtype  \n",
      "---  ------  --------------  -----  \n",
      " 0   Breed   29734 non-null  object \n",
      " 1   Gender  29734 non-null  object \n",
      " 2   Age     29328 non-null  float64\n",
      "dtypes: float64(1), object(2)\n",
      "memory usage: 697.0+ KB\n"
     ]
    }
   ],
   "source": [
    "osteo.info()"
   ]
  },
  {
   "cell_type": "code",
   "execution_count": 6,
   "id": "04638cf4",
   "metadata": {},
   "outputs": [
    {
     "name": "stdout",
     "output_type": "stream",
     "text": [
      "           Breed  lifetime_cost  longevity food_cost_year  grooming_required  \\\n",
      "0  Border collie         20.143       12.0          324.0                2.0   \n",
      "1  Border collie         20.143       12.0          324.0                2.0   \n",
      "2  Border collie         20.143       12.0          324.0                2.0   \n",
      "3  Border collie         20.143       12.0          324.0                2.0   \n",
      "4  Border collie         20.143       12.0          324.0                2.0   \n",
      "\n",
      "  size_category  weight_kg  shoulder_height_cm intelligence_category  \\\n",
      "0        medium  13.444187                51.0             Brightest   \n",
      "1        medium  13.444187                51.0             Brightest   \n",
      "2        medium  13.444187                51.0             Brightest   \n",
      "3        medium  13.444187                51.0             Brightest   \n",
      "4        medium  13.444187                51.0             Brightest   \n",
      "\n",
      "   avg_food_per_week_£  ...  potential_for_mouthiness prey_drive  \\\n",
      "0                  4.0  ...                       2.0        3.0   \n",
      "1                  4.0  ...                       2.0        3.0   \n",
      "2                  4.0  ...                       2.0        3.0   \n",
      "3                  4.0  ...                       2.0        3.0   \n",
      "4                  4.0  ...                       2.0        3.0   \n",
      "\n",
      "  tendency_to_bark_or_howl wanderlust_potential exercise_needs  energy_level  \\\n",
      "0                      2.0                  3.0            5.0           5.0   \n",
      "1                      2.0                  3.0            5.0           5.0   \n",
      "2                      2.0                  3.0            5.0           5.0   \n",
      "3                      2.0                  3.0            5.0           5.0   \n",
      "4                      2.0                  3.0            5.0           5.0   \n",
      "\n",
      "   adapts_well_to_apartment_living  Gender_y   Age  Gender  \n",
      "0                        Versatile    Female  12.0     NaN  \n",
      "1                        Versatile    Female  13.0     NaN  \n",
      "2                        Versatile    Female  14.0     NaN  \n",
      "3                        Versatile      Male  14.0     NaN  \n",
      "4                        Versatile      Male   9.0     NaN  \n",
      "\n",
      "[5 rows x 32 columns]\n",
      "Original size of df: 336177, Size after merge: 1341858\n"
     ]
    }
   ],
   "source": [
    "import pandas as pd\n",
    "\n",
    "# Adjust the sampling size as per the dataset size\n",
    "osteo_sampled = osteo.groupby('Breed').apply(lambda x: x.sample(frac=1.0 if len(x) < 5 else 5/len(x))).reset_index(drop=True)\n",
    "\n",
    "# Perform a left join to keep all rows from df\n",
    "merged_df = pd.merge(df, osteo_sampled, how='left', on='Breed')\n",
    "\n",
    "# Identify breeds in osteo_sampled that are not in df\n",
    "extra_breeds = osteo_sampled[~osteo_sampled['Breed'].isin(df['Breed'])]\n",
    "\n",
    "# Append the extra breeds to the merged dataframe\n",
    "final_df = pd.concat([merged_df, extra_breeds], ignore_index=True)\n",
    "\n",
    "# Check the result\n",
    "print(final_df.head())\n",
    "print(f\"Original size of df: {len(df)}, Size after merge: {len(final_df)}\")"
   ]
  },
  {
   "cell_type": "code",
   "execution_count": 7,
   "id": "64a7864a",
   "metadata": {},
   "outputs": [],
   "source": [
    "columns_to_drop = ['Gender', 'Gender_x']\n",
    "final_df.drop(columns=columns_to_drop, inplace=True)"
   ]
  },
  {
   "cell_type": "code",
   "execution_count": 8,
   "id": "6ad293af",
   "metadata": {},
   "outputs": [
    {
     "name": "stdout",
     "output_type": "stream",
     "text": [
      "<class 'pandas.core.frame.DataFrame'>\n",
      "RangeIndex: 1341858 entries, 0 to 1341857\n",
      "Data columns (total 30 columns):\n",
      " #   Column                           Non-Null Count    Dtype  \n",
      "---  ------                           --------------    -----  \n",
      " 0   Breed                            1341858 non-null  object \n",
      " 1   lifetime_cost                    1341771 non-null  float64\n",
      " 2   longevity                        1341771 non-null  float64\n",
      " 3   food_cost_year                   1341771 non-null  object \n",
      " 4   grooming_required                1341771 non-null  float64\n",
      " 5   size_category                    1341771 non-null  object \n",
      " 6   weight_kg                        1341771 non-null  float64\n",
      " 7   shoulder_height_cm               1341771 non-null  float64\n",
      " 8   intelligence_category            1341771 non-null  object \n",
      " 9   avg_food_per_week_£              1341771 non-null  float64\n",
      " 10  food_per_week_$                  1341771 non-null  float64\n",
      " 11  genetic_ailments                 1341771 non-null  object \n",
      " 12  category                         1341771 non-null  object \n",
      " 13  Specie                           1341771 non-null  object \n",
      " 14  sensitivity_level                1341771 non-null  float64\n",
      " 15  tolerates_being_alone            1341771 non-null  float64\n",
      " 16  tolerates_cold_weather           1341771 non-null  float64\n",
      " 17  tolerates_hot_weather            1341771 non-null  float64\n",
      " 18  incredibly_kifriendly_dogs       1341771 non-null  float64\n",
      " 19  dog_friendly                     1341771 non-null  float64\n",
      " 20  friendly_towarstrangers          1341771 non-null  float64\n",
      " 21  potential_for_mouthiness         1341771 non-null  float64\n",
      " 22  prey_drive                       1341771 non-null  float64\n",
      " 23  tendency_to_bark_or_howl         1341771 non-null  float64\n",
      " 24  wanderlust_potential             1341771 non-null  float64\n",
      " 25  exercise_needs                   1341771 non-null  float64\n",
      " 26  energy_level                     1341771 non-null  float64\n",
      " 27  adapts_well_to_apartment_living  1341771 non-null  object \n",
      " 28  Gender_y                         1257270 non-null  object \n",
      " 29  Age                              1242418 non-null  float64\n",
      "dtypes: float64(21), object(9)\n",
      "memory usage: 307.1+ MB\n"
     ]
    }
   ],
   "source": [
    "final_df.info()"
   ]
  },
  {
   "cell_type": "code",
   "execution_count": 9,
   "id": "2bc3f931",
   "metadata": {},
   "outputs": [
    {
     "data": {
      "text/plain": [
       "array([324.0, 466.0, 674.0, 405.0, 971.0, 710.0, 270.0, 1.349, 1.217,\n",
       "       701.0, 440.518802683628, '440.518802683628', '$466', nan],\n",
       "      dtype=object)"
      ]
     },
     "execution_count": 9,
     "metadata": {},
     "output_type": "execute_result"
    }
   ],
   "source": [
    "final_df['food_cost_year'].unique()"
   ]
  },
  {
   "cell_type": "code",
   "execution_count": 10,
   "id": "b7d7e51e",
   "metadata": {},
   "outputs": [],
   "source": [
    "def clean_food_cost_year(value):\n",
    "    if isinstance(value, str):\n",
    "        # Remove the dollar sign and commas\n",
    "        value = value.replace('$', '').replace(',', '.')\n",
    "        # If the value is 'no data', return NaN\n",
    "        if value == 'no data':\n",
    "            return pd.NA\n",
    "    try:\n",
    "        # Convert to float\n",
    "        return float(value)\n",
    "    except ValueError:\n",
    "        # In case of conversion failure, return NaN\n",
    "        return pd.NA\n",
    "\n",
    "# Apply the function to the column\n",
    "final_df['food_cost_year'] = final_df['food_cost_year'].apply(clean_food_cost_year)"
   ]
  },
  {
   "cell_type": "code",
   "execution_count": 11,
   "id": "b98e87aa",
   "metadata": {},
   "outputs": [],
   "source": [
    "# Fill numeric columns with mean\n",
    "numeric_cols = ['lifetime_cost', 'food_cost_year', 'weight_kg', 'longevity', 'tolerates_being_alone', 'tolerates_cold_weather', 'tolerates_hot_weather', 'prey_drive', 'tendency_to_bark_or_howl', 'energy_level', 'Age']\n",
    "for col in numeric_cols:\n",
    "    final_df[col].fillna(final_df[col].mean(), inplace=True)"
   ]
  },
  {
   "cell_type": "code",
   "execution_count": 12,
   "id": "2c53a44f",
   "metadata": {},
   "outputs": [],
   "source": [
    "# Fill numeric columns with mean\n",
    "numeric_cols = ['shoulder_height_cm', 'avg_food_per_week_£', 'food_per_week_$', 'exercise_needs', 'sensitivity_level', 'incredibly_kifriendly_dogs', 'dog_friendly', 'friendly_towarstrangers', 'potential_for_mouthiness', 'wanderlust_potential', 'exercise_needs']\n",
    "for col in numeric_cols:\n",
    "    final_df[col].fillna(final_df[col].mean(), inplace=True)"
   ]
  },
  {
   "cell_type": "code",
   "execution_count": 13,
   "id": "947b7fde",
   "metadata": {},
   "outputs": [],
   "source": [
    "# Fill integer columns with mode\n",
    "integer_cols = ['grooming_required', 'adapts_well_to_apartment_living', 'Gender_y']\n",
    "\n",
    "for col in integer_cols:\n",
    "    final_df[col].fillna(final_df[col].mode()[0], inplace=True)"
   ]
  },
  {
   "cell_type": "code",
   "execution_count": 14,
   "id": "76670060",
   "metadata": {},
   "outputs": [],
   "source": [
    "# fill object columns with mode\n",
    "object_cols = ['genetic_ailments', 'Specie', 'size_category', 'intelligence_category', 'category']\n",
    "\n",
    "for col in object_cols:\n",
    "    final_df[col].fillna(final_df[col].mode()[0], inplace=True)"
   ]
  },
  {
   "cell_type": "code",
   "execution_count": 15,
   "id": "d3cee735",
   "metadata": {
    "scrolled": true
   },
   "outputs": [
    {
     "name": "stdout",
     "output_type": "stream",
     "text": [
      "<class 'pandas.core.frame.DataFrame'>\n",
      "RangeIndex: 1341858 entries, 0 to 1341857\n",
      "Data columns (total 30 columns):\n",
      " #   Column                           Non-Null Count    Dtype  \n",
      "---  ------                           --------------    -----  \n",
      " 0   Breed                            1341858 non-null  object \n",
      " 1   lifetime_cost                    1341858 non-null  float64\n",
      " 2   longevity                        1341858 non-null  float64\n",
      " 3   food_cost_year                   1341858 non-null  float64\n",
      " 4   grooming_required                1341858 non-null  float64\n",
      " 5   size_category                    1341858 non-null  object \n",
      " 6   weight_kg                        1341858 non-null  float64\n",
      " 7   shoulder_height_cm               1341858 non-null  float64\n",
      " 8   intelligence_category            1341858 non-null  object \n",
      " 9   avg_food_per_week_£              1341858 non-null  float64\n",
      " 10  food_per_week_$                  1341858 non-null  float64\n",
      " 11  genetic_ailments                 1341858 non-null  object \n",
      " 12  category                         1341858 non-null  object \n",
      " 13  Specie                           1341858 non-null  object \n",
      " 14  sensitivity_level                1341858 non-null  float64\n",
      " 15  tolerates_being_alone            1341858 non-null  float64\n",
      " 16  tolerates_cold_weather           1341858 non-null  float64\n",
      " 17  tolerates_hot_weather            1341858 non-null  float64\n",
      " 18  incredibly_kifriendly_dogs       1341858 non-null  float64\n",
      " 19  dog_friendly                     1341858 non-null  float64\n",
      " 20  friendly_towarstrangers          1341858 non-null  float64\n",
      " 21  potential_for_mouthiness         1341858 non-null  float64\n",
      " 22  prey_drive                       1341858 non-null  float64\n",
      " 23  tendency_to_bark_or_howl         1341858 non-null  float64\n",
      " 24  wanderlust_potential             1341858 non-null  float64\n",
      " 25  exercise_needs                   1341858 non-null  float64\n",
      " 26  energy_level                     1341858 non-null  float64\n",
      " 27  adapts_well_to_apartment_living  1341858 non-null  object \n",
      " 28  Gender_y                         1341858 non-null  object \n",
      " 29  Age                              1341858 non-null  float64\n",
      "dtypes: float64(22), object(8)\n",
      "memory usage: 307.1+ MB\n"
     ]
    }
   ],
   "source": [
    "final_df.info()"
   ]
  },
  {
   "cell_type": "code",
   "execution_count": 16,
   "id": "1c22373b",
   "metadata": {},
   "outputs": [],
   "source": [
    "# Save second_cleaning_df to a CSV file\n",
    "#final_df.to_csv('dogs_expenses_total.csv', index=False)\n",
    "#final_df.to_csv('C:/Users/Vero/Desktop/dogs_expenses_total.csv', index=False)"
   ]
  },
  {
   "cell_type": "code",
   "execution_count": null,
   "id": "9bb77810",
   "metadata": {},
   "outputs": [],
   "source": []
  },
  {
   "cell_type": "code",
   "execution_count": 16,
   "id": "e01f2027",
   "metadata": {
    "scrolled": true
   },
   "outputs": [
    {
     "name": "stdout",
     "output_type": "stream",
     "text": [
      "           Breed  lifetime_cost  longevity  food_cost_year  grooming_required  \\\n",
      "0  Affenpinscher         18.333       11.0           324.0                2.0   \n",
      "1  Affenpinscher         18.333       11.0           324.0                2.0   \n",
      "2  Affenpinscher         18.333       11.0           324.0                2.0   \n",
      "3  Affenpinscher         18.333       11.0           324.0                2.0   \n",
      "4  Affenpinscher         18.333       11.0           324.0                2.0   \n",
      "\n",
      "  size_category  weight_kg  shoulder_height_cm intelligence_category  \\\n",
      "0         small  13.444187                26.0         Above average   \n",
      "1         small  13.444187                26.0         Above average   \n",
      "2         small  13.444187                26.0         Above average   \n",
      "3         small  13.444187                26.0         Above average   \n",
      "4         small  13.444187                26.0         Above average   \n",
      "\n",
      "   avg_food_per_week_£  ...  friendly_towarstrangers potential_for_mouthiness  \\\n",
      "0                  4.0  ...                      2.0                      4.0   \n",
      "1                  4.0  ...                      2.0                      4.0   \n",
      "2                  4.0  ...                      3.0                      3.0   \n",
      "3                  4.0  ...                      2.0                      4.0   \n",
      "4                  4.0  ...                      5.0                      2.0   \n",
      "\n",
      "  prey_drive tendency_to_bark_or_howl  wanderlust_potential  exercise_needs  \\\n",
      "0        2.0                      4.0                   2.0             3.0   \n",
      "1        4.0                      3.0                   2.0             4.0   \n",
      "2        3.0                      4.0                   2.0             3.0   \n",
      "3        5.0                      3.0                   3.0             3.0   \n",
      "4        5.0                      2.0                   3.0             4.0   \n",
      "\n",
      "   energy_level  adapts_well_to_apartment_living  Gender_y   Age  \n",
      "0           3.0                         Moderate      Male   9.0  \n",
      "1           3.0                        Versatile      Male   5.0  \n",
      "2           3.0                        Versatile      Male  11.0  \n",
      "3           3.0                         Flexible    Female  12.0  \n",
      "4           5.0                         Flexible    Female  12.0  \n",
      "\n",
      "[5 rows x 30 columns]\n",
      "Original size: 1341858, Sampled size: 805116\n"
     ]
    }
   ],
   "source": [
    "#keep 60% of each breed\n",
    "final_df_sampled = final_df.groupby('Breed').apply(lambda x: x.sample(frac=0.6, random_state = 42)).reset_index(drop=True)\n",
    "\n",
    "# Check the result\n",
    "print(final_df_sampled.head())\n",
    "print(f\"Original size: {len(final_df)}, Sampled size: {len(final_df_sampled)}\")"
   ]
  },
  {
   "cell_type": "code",
   "execution_count": 17,
   "id": "4afef29a",
   "metadata": {},
   "outputs": [],
   "source": [
    "# Save second_cleaning_df to a CSV file\n",
    "#final_df_sampled.to_csv('dogs_expenses.csv', index=False)\n",
    "#final_df_sampled.to_csv('C:/Users/Vero/Desktop/dogs_expenses.csv', index=False)"
   ]
  },
  {
   "cell_type": "code",
   "execution_count": null,
   "id": "402dbd3f",
   "metadata": {},
   "outputs": [],
   "source": []
  }
 ],
 "metadata": {
  "kernelspec": {
   "display_name": "Python 3 (ipykernel)",
   "language": "python",
   "name": "python3"
  },
  "language_info": {
   "codemirror_mode": {
    "name": "ipython",
    "version": 3
   },
   "file_extension": ".py",
   "mimetype": "text/x-python",
   "name": "python",
   "nbconvert_exporter": "python",
   "pygments_lexer": "ipython3",
   "version": "3.11.4"
  }
 },
 "nbformat": 4,
 "nbformat_minor": 5
}
